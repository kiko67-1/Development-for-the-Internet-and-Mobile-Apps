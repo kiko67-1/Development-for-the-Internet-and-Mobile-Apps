{
 "cells": [
  {
   "cell_type": "markdown",
   "source": [
    "## Semana 3\n",
    "\n",
    "### 3.1 \n",
    "Considere o poema “Corrente”, de Chico Buarque:"
   ],
   "metadata": {
    "collapsed": false
   },
   "id": "4e73b6d810e334f6"
  },
  {
   "cell_type": "code",
   "outputs": [],
   "source": [
    "poema = \"Eu hoje fiz um samba bem pra frente / Dizendo realmente o que é que eu acho / Eu acho que o meu samba é uma corrente / E coerentemente assino embaixo/ Hoje é preciso refletir um pouco / E ver que o samba está tomando jeito / Só mesmo embriagado ou muito louco / Pra contestar e pra botar defeito / Precisa ser muito sincero e claro / Pra confessar que andei sambando errado / Talvez precise até tomar na cara / Pra ver que o samba está bem melhorado / Tem mais é que ser bem cara de tacho / Não ver a multidão sambar contente / Isso me deixa triste e cabisbaixo / Por isso eu fiz um samba bem pra frente / Dizendo realmente o que é que eu acho / Eu acho que o meu samba é uma corrente / E coerentemente assino embaixo / Hoje é preciso refletir um pouco / E ver que o samba está tomando jeito / Só mesmo embriagado ou muito louco / Pra contestar e pra botar defeito / Precisa ser muito sincero e claro / Pra confessar que andei sambando errado / Talvez precise até tomar na cara / Pra ver que o samba está bem melhorado / Tem mais é que ser bem cara de tacho / Não ver a multidão sambar contente / Isso me deixa triste e cabisbaixo\""
   ],
   "metadata": {
    "collapsed": true,
    "ExecuteTime": {
     "end_time": "2024-02-26T14:04:35.537998600Z",
     "start_time": "2024-02-26T14:04:35.532161400Z"
    }
   },
   "id": "initial_id",
   "execution_count": 1
  },
  {
   "cell_type": "markdown",
   "source": [
    "#### 3.1 a) \n",
    "Transforme a string “poema” numa lista de versos e imprima na consola o poema formatado da seguinte forma:\n",
    "***Eu hoje fiz um samba bem pra frente***\n",
    "***Dizendo realmente o que é que eu acho***\n",
    "***Eu acho que o meu samba é uma corrente***\n",
    "…\n",
    "Dica: repare que os vários versos do poema estão separados sempre da mesma forma..."
   ],
   "metadata": {
    "collapsed": false
   },
   "id": "c36595f61a39ee35"
  },
  {
   "cell_type": "code",
   "outputs": [
    {
     "name": "stdout",
     "output_type": "stream",
     "text": [
      "Eu hoje fiz um samba bem pra frente\n",
      "Dizendo realmente o que é que eu acho\n",
      "Eu acho que o meu samba é uma corrente\n",
      "E coerentemente assino embaixo/ Hoje é preciso refletir um pouco\n",
      "E ver que o samba está tomando jeito\n",
      "Só mesmo embriagado ou muito louco\n",
      "Pra contestar e pra botar defeito\n",
      "Precisa ser muito sincero e claro\n",
      "Pra confessar que andei sambando errado\n",
      "Talvez precise até tomar na cara\n",
      "Pra ver que o samba está bem melhorado\n",
      "Tem mais é que ser bem cara de tacho\n",
      "Não ver a multidão sambar contente\n",
      "Isso me deixa triste e cabisbaixo\n",
      "Por isso eu fiz um samba bem pra frente\n",
      "Dizendo realmente o que é que eu acho\n",
      "Eu acho que o meu samba é uma corrente\n",
      "E coerentemente assino embaixo\n",
      "Hoje é preciso refletir um pouco\n",
      "E ver que o samba está tomando jeito\n",
      "Só mesmo embriagado ou muito louco\n",
      "Pra contestar e pra botar defeito\n",
      "Precisa ser muito sincero e claro\n",
      "Pra confessar que andei sambando errado\n",
      "Talvez precise até tomar na cara\n",
      "Pra ver que o samba está bem melhorado\n",
      "Tem mais é que ser bem cara de tacho\n",
      "Não ver a multidão sambar contente\n",
      "Isso me deixa triste e cabisbaixo\n"
     ]
    }
   ],
   "source": [
    "estrofe = poema.split(\" / \")\n",
    "for verso in estrofe: print(verso)\n"
   ],
   "metadata": {
    "collapsed": false,
    "ExecuteTime": {
     "end_time": "2024-02-26T14:04:35.546589700Z",
     "start_time": "2024-02-26T14:04:35.537998600Z"
    }
   },
   "id": "8cd480dcde0f899f",
   "execution_count": 2
  },
  {
   "cell_type": "markdown",
   "source": [
    "#### 3.1 b)\n",
    "Complete o poema juntando-lhe os seguintes versos ao final:\n",
    "***Por isso eu fiz um samba bem pra frente***\n",
    "***Dizendo realmente o que é que eu acho***\n",
    "***Isso me deixa triste e cabisbaixo***"
   ],
   "metadata": {
    "collapsed": false
   },
   "id": "f2ca939759043815"
  },
  {
   "cell_type": "code",
   "outputs": [
    {
     "name": "stdout",
     "output_type": "stream",
     "text": [
      "Eu hoje fiz um samba bem pra frente\n",
      "Dizendo realmente o que é que eu acho\n",
      "Eu acho que o meu samba é uma corrente\n",
      "E coerentemente assino embaixo/ Hoje é preciso refletir um pouco\n",
      "E ver que o samba está tomando jeito\n",
      "Só mesmo embriagado ou muito louco\n",
      "Pra contestar e pra botar defeito\n",
      "Precisa ser muito sincero e claro\n",
      "Pra confessar que andei sambando errado\n",
      "Talvez precise até tomar na cara\n",
      "Pra ver que o samba está bem melhorado\n",
      "Tem mais é que ser bem cara de tacho\n",
      "Não ver a multidão sambar contente\n",
      "Isso me deixa triste e cabisbaixo\n",
      "Por isso eu fiz um samba bem pra frente\n",
      "Dizendo realmente o que é que eu acho\n",
      "Eu acho que o meu samba é uma corrente\n",
      "E coerentemente assino embaixo\n",
      "Hoje é preciso refletir um pouco\n",
      "E ver que o samba está tomando jeito\n",
      "Só mesmo embriagado ou muito louco\n",
      "Pra contestar e pra botar defeito\n",
      "Precisa ser muito sincero e claro\n",
      "Pra confessar que andei sambando errado\n",
      "Talvez precise até tomar na cara\n",
      "Pra ver que o samba está bem melhorado\n",
      "Tem mais é que ser bem cara de tacho\n",
      "Não ver a multidão sambar contente\n",
      "Isso me deixa triste e cabisbaixo\n",
      "Por isso eu fiz um samba bem pra frente\n",
      "Dizendo realmente o que é que eu acho\n",
      "Isso me deixa triste e cabisbaixo\n"
     ]
    }
   ],
   "source": [
    "versos_extra = [\"Por isso eu fiz um samba bem pra frente\",\"Dizendo realmente o que é que eu acho\",\"Isso me deixa triste e cabisbaixo\"]\n",
    "estrofe += versos_extra\n",
    "for verso in estrofe: print(verso)\n"
   ],
   "metadata": {
    "collapsed": false,
    "ExecuteTime": {
     "end_time": "2024-02-26T14:04:35.577554100Z",
     "start_time": "2024-02-26T14:04:35.549494Z"
    }
   },
   "id": "a8e2c8f9cfa9ed1b",
   "execution_count": 3
  },
  {
   "cell_type": "markdown",
   "source": [
    "#### 3.1 c)\n",
    "Imprima na consola apenas os dois últimos versos do poema na sua forma final, depois das alíneas a) e b)."
   ],
   "metadata": {
    "collapsed": false
   },
   "id": "bf9ef585b1928589"
  },
  {
   "cell_type": "code",
   "outputs": [
    {
     "name": "stdout",
     "output_type": "stream",
     "text": [
      "['Dizendo realmente o que é que eu acho', 'Isso me deixa triste e cabisbaixo']\n"
     ]
    }
   ],
   "source": [
    "print(estrofe[-2:])"
   ],
   "metadata": {
    "collapsed": false,
    "ExecuteTime": {
     "end_time": "2024-02-26T14:04:35.578533400Z",
     "start_time": "2024-02-26T14:04:35.554417600Z"
    }
   },
   "id": "b3464e1424da4ee5",
   "execution_count": 4
  },
  {
   "cell_type": "markdown",
   "source": [
    "#### 3.1 d)\n",
    "Desenvolva código para calcular e mostrar na consola o número de versos em que está presente a palavra “samba”."
   ],
   "metadata": {
    "collapsed": false
   },
   "id": "c979ff74beb0e300"
  },
  {
   "cell_type": "code",
   "outputs": [
    {
     "name": "stdout",
     "output_type": "stream",
     "text": [
      "13\n"
     ]
    }
   ],
   "source": [
    "print(sum(1 for verso in estrofe if \"samba\" in verso))    "
   ],
   "metadata": {
    "collapsed": false,
    "ExecuteTime": {
     "end_time": "2024-02-26T14:04:35.578533400Z",
     "start_time": "2024-02-26T14:04:35.561779400Z"
    }
   },
   "id": "8ebdbfefe14ca5d7",
   "execution_count": 5
  },
  {
   "cell_type": "markdown",
   "source": [
    "#### 3.1 e)\n",
    "Desenvolva código para calcular e mostrar o número de vezes em que aparece cada uma das vogais ao longo do poema completo."
   ],
   "metadata": {
    "collapsed": false
   },
   "id": "376487007085ff30"
  },
  {
   "cell_type": "code",
   "outputs": [
    {
     "name": "stdout",
     "output_type": "stream",
     "text": [
      "a: 104\n",
      "e: 141\n",
      "i: 50\n",
      "o: 94\n",
      "u: 45\n"
     ]
    }
   ],
   "source": [
    "vogais = [\"a\",\"e\",\"i\",\"o\",\"u\"]\n",
    "for vogal in vogais:\n",
    "    print(vogal + \": \" + str(sum(verso.count(vogal) for verso in estrofe)))    "
   ],
   "metadata": {
    "collapsed": false,
    "ExecuteTime": {
     "end_time": "2024-02-26T14:04:35.579533900Z",
     "start_time": "2024-02-26T14:04:35.567733800Z"
    }
   },
   "id": "52060bfd6bd5f8f9",
   "execution_count": 6
  },
  {
   "cell_type": "code",
   "outputs": [],
   "source": [],
   "metadata": {
    "collapsed": false,
    "ExecuteTime": {
     "end_time": "2024-02-26T14:04:35.611052500Z",
     "start_time": "2024-02-26T14:04:35.574524100Z"
    }
   },
   "id": "548b8653c789550c",
   "execution_count": 6
  }
 ],
 "metadata": {
  "kernelspec": {
   "display_name": "Python 3",
   "language": "python",
   "name": "python3"
  },
  "language_info": {
   "codemirror_mode": {
    "name": "ipython",
    "version": 2
   },
   "file_extension": ".py",
   "mimetype": "text/x-python",
   "name": "python",
   "nbconvert_exporter": "python",
   "pygments_lexer": "ipython2",
   "version": "2.7.6"
  }
 },
 "nbformat": 4,
 "nbformat_minor": 5
}
