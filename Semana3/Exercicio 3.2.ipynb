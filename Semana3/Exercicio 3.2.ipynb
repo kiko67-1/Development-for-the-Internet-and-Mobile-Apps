{
 "cells": [
  {
   "cell_type": "markdown",
   "source": [
    "## Semana 3\n",
    "\n",
    "### 3.2 \n",
    "Programe um script em Python que:"
   ],
   "metadata": {
    "collapsed": false
   },
   "id": "8344664b81e82de6"
  },
  {
   "cell_type": "markdown",
   "source": [
    "### 3.2 a) \n",
    "Cria dois dicionários: o primeiro deve conter as disciplinas do semestre passado e as notas que obteve; o segundo deve conter as disciplinas deste semestre e as notas que prevê obter, por exemplo, 'DIAM': 20. Imprima na consola os dois dicionários."
   ],
   "metadata": {
    "collapsed": false
   },
   "id": "9c8c06133296fe1d"
  },
  {
   "cell_type": "code",
   "outputs": [
    {
     "name": "stdout",
     "output_type": "stream",
     "text": [
      "{'AR': 18, 'PCD': 19, 'PI': 18, 'ADCS': 18, 'AA': 17}\n",
      "{'DIAM': 19, 'ES': 17, 'PSID': 16, 'CT': 17, 'IPM': 17}\n"
     ]
    }
   ],
   "source": [
    "notas_semestre_passado = {'AR': 18,  'PCD': 19,  'PI': 18, 'ADCS':18, 'AA':17} #💪\n",
    "notas_semestre_atual = {'DIAM': 19, 'ES': 17, 'PSID': 16, 'CT': 17, 'IPM': 17}\n",
    "\n",
    "print(notas_semestre_passado)\n",
    "print(notas_semestre_atual)"
   ],
   "metadata": {
    "collapsed": false,
    "ExecuteTime": {
     "end_time": "2024-02-26T14:48:39.381313Z",
     "start_time": "2024-02-26T14:48:39.353962900Z"
    }
   },
   "id": "f0b64ddc5dd95985",
   "execution_count": 103
  },
  {
   "cell_type": "markdown",
   "source": [
    "### 3.2 b)\n",
    "Obtenha um terceiro dicionário que resulta da concatenação de ambos os dicionários da alínea anterior. A partir deste ponto trabalhe apenas com este terceiro dicionário que terá todas as disciplinas do ano letivo. Imprima na consola este dicionário."
   ],
   "metadata": {
    "collapsed": false
   },
   "id": "c8650ce12f557472"
  },
  {
   "cell_type": "code",
   "outputs": [
    {
     "name": "stdout",
     "output_type": "stream",
     "text": [
      "{'DIAM': 19, 'ES': 17, 'PSID': 16, 'CT': 17, 'IPM': 17, 'AR': 18, 'PCD': 19, 'PI': 18, 'ADCS': 18, 'AA': 17}\n"
     ]
    }
   ],
   "source": [
    "notas_ano_letivo = {}\n",
    "notas_ano_letivo.update(notas_semestre_atual)\n",
    "notas_ano_letivo.update(notas_semestre_passado)\n",
    "print(notas_ano_letivo)"
   ],
   "metadata": {
    "collapsed": false,
    "ExecuteTime": {
     "end_time": "2024-02-26T14:48:39.419325400Z",
     "start_time": "2024-02-26T14:48:39.388313600Z"
    }
   },
   "id": "a2031dbfbcc9c3fa",
   "execution_count": 104
  },
  {
   "cell_type": "markdown",
   "source": [
    "### 3.2 c)\n",
    "Mostre na consola uma lista que contém apenas as chaves (disciplinas) do dicionário."
   ],
   "metadata": {
    "collapsed": false
   },
   "id": "2f800755969e043d"
  },
  {
   "cell_type": "code",
   "outputs": [
    {
     "name": "stdout",
     "output_type": "stream",
     "text": [
      "['DIAM', 'ES', 'PSID', 'CT', 'IPM', 'AR', 'PCD', 'PI', 'ADCS', 'AA']\n"
     ]
    }
   ],
   "source": [
    "print(list(notas_ano_letivo.keys()))"
   ],
   "metadata": {
    "collapsed": false,
    "ExecuteTime": {
     "end_time": "2024-02-26T14:48:39.458589200Z",
     "start_time": "2024-02-26T14:48:39.424325700Z"
    }
   },
   "id": "d8223be5e4c22503",
   "execution_count": 105
  },
  {
   "cell_type": "markdown",
   "source": [
    "### 3.2 d)\n",
    "Mostre na consola uma lista que contém apenas os valores (notas) do dicionário"
   ],
   "metadata": {
    "collapsed": false
   },
   "id": "b2363265fffe77ae"
  },
  {
   "cell_type": "code",
   "outputs": [
    {
     "name": "stdout",
     "output_type": "stream",
     "text": [
      "[19, 17, 16, 17, 17, 18, 19, 18, 18, 17]\n"
     ]
    }
   ],
   "source": [
    "print(list(notas_ano_letivo.values()))"
   ],
   "metadata": {
    "collapsed": false,
    "ExecuteTime": {
     "end_time": "2024-02-26T14:48:39.493940600Z",
     "start_time": "2024-02-26T14:48:39.462586Z"
    }
   },
   "id": "bb70b5bf9c60fa85",
   "execution_count": 106
  },
  {
   "cell_type": "markdown",
   "source": [
    "### 3.2 e)\n",
    "Ordene o dicionário por ordem alfabética das disciplinas e mostre o resultado na consola"
   ],
   "metadata": {
    "collapsed": false
   },
   "id": "68d439c9b85c00ac"
  },
  {
   "cell_type": "code",
   "outputs": [
    {
     "name": "stdout",
     "output_type": "stream",
     "text": [
      "{'AA': 17, 'ADCS': 18, 'AR': 18, 'CT': 17, 'DIAM': 19, 'ES': 17, 'IPM': 17, 'PCD': 19, 'PI': 18, 'PSID': 16}\n"
     ]
    }
   ],
   "source": [
    "notas_ano_letivo_ordenado = dict(sorted(notas_ano_letivo.items()))\n",
    "print(notas_ano_letivo_ordenado)"
   ],
   "metadata": {
    "collapsed": false,
    "ExecuteTime": {
     "end_time": "2024-02-26T14:48:39.531730700Z",
     "start_time": "2024-02-26T14:48:39.497948700Z"
    }
   },
   "id": "a8e939712e4c0df7",
   "execution_count": 107
  },
  {
   "cell_type": "markdown",
   "source": [
    "**Para cada uma dasseguintes alíneas pretende-se que desenvolva uma função (ou procedimento) e que\n",
    "teste o código desenvolvido mostrando os resultados na consola.**\n",
    "\n",
    "\n",
    "### 3.2 f)\n",
    "Verificar se uma determinada disciplina exista ou não no dicionário. Por exemplo, se 'DIAM'\n",
    "existir, seria mostrada a mensagem 'DIAM existe no dicionario'"
   ],
   "metadata": {
    "collapsed": false
   },
   "id": "3e9f71b6b6b05c1f"
  },
  {
   "cell_type": "code",
   "outputs": [
    {
     "name": "stdout",
     "output_type": "stream",
     "text": [
      "DIAM existe no dicionario\n",
      "PPE nao existe no dicionario\n"
     ]
    }
   ],
   "source": [
    "def contem(dicionario, cadeira):\n",
    "    print(cadeira + (\" \" if cadeira in dicionario.keys() else \" nao \") + \"existe no dicionario\")\n",
    "\n",
    "contem(notas_ano_letivo,\"DIAM\")\n",
    "contem(notas_ano_letivo,\"PPE\")"
   ],
   "metadata": {
    "collapsed": false,
    "ExecuteTime": {
     "end_time": "2024-02-26T14:48:39.565685200Z",
     "start_time": "2024-02-26T14:48:39.537044200Z"
    }
   },
   "id": "1d3a5523ae8febf1",
   "execution_count": 108
  },
  {
   "cell_type": "markdown",
   "source": [
    "### 3.2 g)\n",
    "Obter a lista de disciplinas cuja nota é superior a um determinado valor."
   ],
   "metadata": {
    "collapsed": false
   },
   "id": "2b51c9df43201046"
  },
  {
   "cell_type": "code",
   "outputs": [
    {
     "name": "stdout",
     "output_type": "stream",
     "text": [
      "['DIAM', 'AR', 'PCD', 'PI', 'ADCS']\n",
      "['DIAM', 'PCD']\n"
     ]
    }
   ],
   "source": [
    "def cadeiras_com_resultado_maior_que(n):\n",
    "    return list(cadeira[0] for cadeira in notas_ano_letivo.items() if cadeira[1] > n)\n",
    "\n",
    "print(cadeiras_com_resultado_maior_que(17))\n",
    "print(cadeiras_com_resultado_maior_que(18))"
   ],
   "metadata": {
    "collapsed": false,
    "ExecuteTime": {
     "end_time": "2024-02-26T14:48:39.595930600Z",
     "start_time": "2024-02-26T14:48:39.569667600Z"
    }
   },
   "id": "9af3683201e2522",
   "execution_count": 109
  },
  {
   "cell_type": "markdown",
   "source": [
    "### 3.2 h)\n",
    "Calcular a média das notas das disciplinas presentes no dicionário"
   ],
   "metadata": {
    "collapsed": false
   },
   "id": "258792fb6cb33874"
  },
  {
   "cell_type": "code",
   "outputs": [
    {
     "name": "stdout",
     "output_type": "stream",
     "text": [
      "17.6\n"
     ]
    }
   ],
   "source": [
    "def calcular_media():\n",
    "    return sum(notas_ano_letivo.values())/len(notas_ano_letivo)\n",
    "\n",
    "print(calcular_media())    "
   ],
   "metadata": {
    "collapsed": false,
    "ExecuteTime": {
     "end_time": "2024-02-26T14:48:39.626906600Z",
     "start_time": "2024-02-26T14:48:39.599932200Z"
    }
   },
   "id": "66e01e06f4cc2fb2",
   "execution_count": 110
  },
  {
   "cell_type": "markdown",
   "source": [
    "### 3.2 i)\n",
    "Obter a lista das três disciplinas com as melhores notas."
   ],
   "metadata": {
    "collapsed": false
   },
   "id": "ad1d411b45035c2e"
  },
  {
   "cell_type": "code",
   "outputs": [
    {
     "name": "stdout",
     "output_type": "stream",
     "text": [
      "['DIAM', 'PCD', 'AR']\n"
     ]
    }
   ],
   "source": [
    "def top_3_cadeiras():\n",
    "    return list(item[0] for item in sorted(notas_ano_letivo.items(), key=lambda x:x[1], reverse=True)[:3])\n",
    "\n",
    "print(top_3_cadeiras())"
   ],
   "metadata": {
    "collapsed": false,
    "ExecuteTime": {
     "end_time": "2024-02-26T14:48:39.660406Z",
     "start_time": "2024-02-26T14:48:39.632942300Z"
    }
   },
   "id": "f2bf1064e6d40e01",
   "execution_count": 111
  }
 ],
 "metadata": {
  "kernelspec": {
   "display_name": "Python 3",
   "language": "python",
   "name": "python3"
  },
  "language_info": {
   "codemirror_mode": {
    "name": "ipython",
    "version": 2
   },
   "file_extension": ".py",
   "mimetype": "text/x-python",
   "name": "python",
   "nbconvert_exporter": "python",
   "pygments_lexer": "ipython2",
   "version": "2.7.6"
  }
 },
 "nbformat": 4,
 "nbformat_minor": 5
}
