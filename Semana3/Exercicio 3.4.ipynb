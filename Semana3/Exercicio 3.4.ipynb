{
 "cells": [
  {
   "cell_type": "markdown",
   "source": [
    "## Semana 3\n",
    "\n",
    "### 3.4 \n",
    "Considere a operação de transposição de letras através da qual uma palavra ou uma frase pode ser composta com as letras de outra palavra ou de outra frase. Por exemplo, a palavra “amor” resulta da transposição de letras da palavra “roma”. Ou um outro exemplo, com mais de uma palavra:\n",
    "Existem várias maneiras de verificar se duas strings são transponíveis, por exemplo as que são descritas nas seguintes variantes:\n"
   ],
   "metadata": {
    "collapsed": false
   },
   "id": "823bd0697a7d007d"
  },
  {
   "cell_type": "markdown",
   "source": [
    "### 3.4 a)\n",
    "#### i)\n",
    "Verificar se cada letra da primeira string existe também na segunda string. Se existir, retira-se essa letra da segunda string. Se no final do processo a segunda string ficarsem nenhuma letra, então as strings são transponíveis.\n"
   ],
   "metadata": {
    "collapsed": false
   },
   "id": "bbda52524b3a3b25"
  },
  {
   "cell_type": "code",
   "outputs": [
    {
     "name": "stdout",
     "output_type": "stream",
     "text": [
      "True\n",
      "True\n"
     ]
    }
   ],
   "source": [
    "import timeit\n",
    "import time\n",
    "import datetime\n",
    "\n",
    "def are_transposable_1(str1, str2):\n",
    "    str1 = str1.replace(\" \",\"\")\n",
    "    str2 = str2.replace(\" \",\"\")\n",
    "    for char in str1:\n",
    "        index = str2.find(char)\n",
    "        if index != -1: str2 = str2[:index] + str2[index + 1:]\n",
    "        else:\n",
    "            return False\n",
    "    return str2 == \"\"\n",
    "\n",
    "print(are_transposable_1(\"amor\", \"roma\"))\n",
    "print(are_transposable_1(\"the alias men\", \"alan smithee\"))\n",
    "        "
   ],
   "metadata": {
    "collapsed": false,
    "ExecuteTime": {
     "end_time": "2024-03-02T19:57:54.194242Z",
     "start_time": "2024-03-02T19:57:54.187616Z"
    }
   },
   "id": "6ffabb77ebc4347b",
   "execution_count": 7
  },
  {
   "cell_type": "markdown",
   "source": [
    "#### ii)\n",
    "Ordenar asletras das duasstrings por ordem alfabética. Se o resultado da ordenação dasletras for igual em ambas as strings, então as strings são transponíveis."
   ],
   "metadata": {
    "collapsed": false
   },
   "id": "3df56a49f69fc3e9"
  },
  {
   "cell_type": "code",
   "outputs": [
    {
     "name": "stdout",
     "output_type": "stream",
     "text": [
      "True\n",
      "True\n"
     ]
    }
   ],
   "source": [
    "def are_transposable_2(str1, str2):\n",
    "    str1 = sorted(str1.replace(\" \", \"\"))\n",
    "    str2 = sorted(str2.replace(\" \", \"\"))\n",
    "    return str1 == str2\n",
    "\n",
    "print(are_transposable_2(\"amor\", \"roma\"))\n",
    "print(are_transposable_2(\"the alias men\", \"alan smithee\"))"
   ],
   "metadata": {
    "collapsed": false,
    "ExecuteTime": {
     "end_time": "2024-03-02T19:57:54.230342Z",
     "start_time": "2024-03-02T19:57:54.224446Z"
    }
   },
   "id": "71ca351f919f24b3",
   "execution_count": 8
  },
  {
   "cell_type": "markdown",
   "source": [
    "#### iii)"
   ],
   "metadata": {
    "collapsed": false
   },
   "id": "af489fc110b07433"
  },
  {
   "cell_type": "markdown",
   "source": [
    "#### iv)"
   ],
   "metadata": {
    "collapsed": false
   },
   "id": "a6c6c078ae46b810"
  },
  {
   "cell_type": "markdown",
   "source": [
    "### 3.4 b)\n",
    "Compare as variantes implementadas quanto ao número de passos necessários e quanto ao tempo\n",
    "de execução. Considere que cada passo corresponde a percorrer os caracteres numa das strings.\n",
    "Para medir tempos de execução pode utilizar, por exemplo, uma das abordagens descritas em:\n"
   ],
   "metadata": {
    "collapsed": false
   },
   "id": "728abed02e73f8e6"
  },
  {
   "cell_type": "code",
   "outputs": [],
   "source": [
    "word1 = \"amor\"\n",
    "word2 = \"roma\"\n",
    "execution_time_i = timeit.timeit(lambda: are_transposable_1(word1, word2), number=1000000)\n",
    "execution_time_ii = timeit.timeit(lambda: are_transposable_2(word1, word2), number=1000000)"
   ],
   "metadata": {
    "collapsed": false,
    "ExecuteTime": {
     "end_time": "2024-03-02T19:57:56.047202Z",
     "start_time": "2024-03-02T19:57:54.234356Z"
    }
   },
   "id": "16f45a985f82d343",
   "execution_count": 9
  },
  {
   "cell_type": "code",
   "outputs": [
    {
     "name": "stdout",
     "output_type": "stream",
     "text": [
      "  Tempo de execução da primeira implementação(i) corrida 1M vezes: 1.223875799914822 seconds (Time Complexity: O(n^2))\n",
      "  Tempo de execução da degunda implementação(ii) corrida 1M vezes: 0.5826075000222772 seconds (Time Complexity: O(n*log(n)))\n",
      "  A primeira implementação demora 210.069% do tempo da segunda, para a mesma tarefa\n"
     ]
    }
   ],
   "source": [
    "print(\" \",f\"Tempo de execução da primeira implementação(i) corrida 1M vezes: {execution_time_i} seconds (Time Complexity: O(n^2))\")\n",
    "print(\" \",f\"Tempo de execução da degunda implementação(ii) corrida 1M vezes: {execution_time_ii} seconds (Time Complexity: O(n*log(n)))\")\n",
    "efficiency = execution_time_i/execution_time_ii * 100\n",
    "print(\" \",f\"A primeira implementação demora {round(efficiency, 3)}% do tempo da segunda, para a mesma tarefa\")"
   ],
   "metadata": {
    "collapsed": false,
    "ExecuteTime": {
     "end_time": "2024-03-02T19:57:56.055284Z",
     "start_time": "2024-03-02T19:57:56.048215Z"
    }
   },
   "id": "f27b9e187793dbbe",
   "execution_count": 10
  },
  {
   "cell_type": "code",
   "outputs": [],
   "source": [],
   "metadata": {
    "collapsed": false,
    "ExecuteTime": {
     "end_time": "2024-03-02T19:57:56.061255Z",
     "start_time": "2024-03-02T19:57:56.057292Z"
    }
   },
   "id": "480299590500ea0a",
   "execution_count": 10
  },
  {
   "cell_type": "code",
   "outputs": [],
   "source": [],
   "metadata": {
    "collapsed": false,
    "ExecuteTime": {
     "end_time": "2024-03-02T19:57:56.066573Z",
     "start_time": "2024-03-02T19:57:56.063267Z"
    }
   },
   "id": "585b402b99f16920",
   "execution_count": 10
  },
  {
   "cell_type": "code",
   "outputs": [],
   "source": [],
   "metadata": {
    "collapsed": false,
    "ExecuteTime": {
     "end_time": "2024-03-02T19:57:56.072067Z",
     "start_time": "2024-03-02T19:57:56.067584Z"
    }
   },
   "id": "d79925e48a799224",
   "execution_count": 10
  },
  {
   "cell_type": "code",
   "outputs": [],
   "source": [],
   "metadata": {
    "collapsed": false,
    "ExecuteTime": {
     "end_time": "2024-03-02T19:57:56.077181Z",
     "start_time": "2024-03-02T19:57:56.074087Z"
    }
   },
   "id": "2b168bd1d1d3a7c3",
   "execution_count": 10
  }
 ],
 "metadata": {
  "kernelspec": {
   "display_name": "Python 3",
   "language": "python",
   "name": "python3"
  },
  "language_info": {
   "codemirror_mode": {
    "name": "ipython",
    "version": 2
   },
   "file_extension": ".py",
   "mimetype": "text/x-python",
   "name": "python",
   "nbconvert_exporter": "python",
   "pygments_lexer": "ipython2",
   "version": "2.7.6"
  }
 },
 "nbformat": 4,
 "nbformat_minor": 5
}
