{
 "cells": [
  {
   "cell_type": "markdown",
   "source": [
    "## Semana 3\n",
    "\n",
    "### 3.4 \n",
    "Considere a operação de transposição de letras através da qual uma palavra ou uma frase pode ser composta com as letras de outra palavra ou de outra frase. Por exemplo, a palavra “amor” resulta da transposição de letras da palavra “roma”. Ou um outro exemplo, com mais de uma palavra:\n",
    "Existem várias maneiras de verificarse duasstringssão transponíveis, por exemplo as que são descritas\n",
    "nas seguintes variantes:\n"
   ],
   "metadata": {
    "collapsed": false
   },
   "id": "823bd0697a7d007d"
  },
  {
   "cell_type": "markdown",
   "source": [
    "### 3.4 a)\n",
    "#### i)\n",
    "Verificar se cada letra da primeira string existe também na segunda string. Se existir, retira-se essa letra da segunda string. Se no final do processo a segunda string ficarsem nenhuma letra, então as strings são transponíveis.\n"
   ],
   "metadata": {
    "collapsed": false
   },
   "id": "bbda52524b3a3b25"
  },
  {
   "cell_type": "code",
   "outputs": [
    {
     "name": "stdout",
     "output_type": "stream",
     "text": [
      "True\n",
      "True\n"
     ]
    }
   ],
   "source": [
    "import time\n",
    "import datetime\n",
    "\n",
    "def are_transposable_1(str1, str2):\n",
    "    str1 = str1.replace(\" \",\"\")\n",
    "    str2 = str2.replace(\" \",\"\")\n",
    "    for char in str1:\n",
    "        index = str2.find(char)\n",
    "        if index != -1: str2 = str2[:index] + str2[index + 1:]\n",
    "        else:\n",
    "            return False\n",
    "    return str2 == \"\"\n",
    "\n",
    "print(are_transposable_1(\"amor\", \"roma\"))\n",
    "print(are_transposable_1(\"the alias men\", \"alan smithee\"))\n",
    "        "
   ],
   "metadata": {
    "collapsed": false,
    "ExecuteTime": {
     "end_time": "2024-02-26T14:47:16.377531900Z",
     "start_time": "2024-02-26T14:47:16.334695700Z"
    }
   },
   "id": "6ffabb77ebc4347b",
   "execution_count": 93
  },
  {
   "cell_type": "markdown",
   "source": [
    "#### ii)\n",
    "Ordenar asletras das duasstrings por ordem alfabética. Se o resultado da ordenação dasletras for igual em ambas as strings, então as strings são transponíveis."
   ],
   "metadata": {
    "collapsed": false
   },
   "id": "3df56a49f69fc3e9"
  },
  {
   "cell_type": "code",
   "outputs": [
    {
     "name": "stdout",
     "output_type": "stream",
     "text": [
      "True\n",
      "True\n"
     ]
    }
   ],
   "source": [
    "def are_transposable_2(str1, str2):\n",
    "    str1 = sorted(str1.replace(\" \", \"\"))\n",
    "    str2 = sorted(str2.replace(\" \", \"\"))\n",
    "    return str1 == str2\n",
    "\n",
    "print(are_transposable_2(\"amor\", \"roma\"))\n",
    "print(are_transposable_2(\"the alias men\", \"alan smithee\"))"
   ],
   "metadata": {
    "collapsed": false,
    "ExecuteTime": {
     "end_time": "2024-02-26T14:47:16.417865Z",
     "start_time": "2024-02-26T14:47:16.385861900Z"
    }
   },
   "id": "71ca351f919f24b3",
   "execution_count": 94
  },
  {
   "cell_type": "markdown",
   "source": [
    "#### iii)"
   ],
   "metadata": {
    "collapsed": false
   },
   "id": "af489fc110b07433"
  },
  {
   "cell_type": "markdown",
   "source": [
    "#### iv)"
   ],
   "metadata": {
    "collapsed": false
   },
   "id": "a6c6c078ae46b810"
  },
  {
   "cell_type": "markdown",
   "source": [
    "### 3.4 b)\n",
    "Compare as variantesimplementadas quanto ao número de passos necessários e quanto ao tempo\n",
    "de execução. Considere que cada passo corresponde a percorrer os caracteres numa das strings.\n",
    "Para medir tempos de execução pode utilizar, por exemplo, uma das abordagens descritas em:\n"
   ],
   "metadata": {
    "collapsed": false
   },
   "id": "728abed02e73f8e6"
  },
  {
   "cell_type": "code",
   "outputs": [],
   "source": [
    "def transposable_timer(func, str1, str2):\n",
    "    start = time.time()\n",
    "    func(str1,str2)\n",
    "    end = time.time()\n",
    "    print(\"Aprox. Elapsed time: \" + str((end - start)*1000) + \"ms\")"
   ],
   "metadata": {
    "collapsed": false,
    "ExecuteTime": {
     "end_time": "2024-02-26T14:47:16.448068600Z",
     "start_time": "2024-02-26T14:47:16.421862200Z"
    }
   },
   "id": "16f45a985f82d343",
   "execution_count": 95
  },
  {
   "cell_type": "code",
   "outputs": [
    {
     "name": "stdout",
     "output_type": "stream",
     "text": [
      "Aprox. Elapsed time: 0.0ms\n",
      "Aprox. Elapsed time: 0.0ms\n"
     ]
    }
   ],
   "source": [
    "transposable_timer(are_transposable_2, \"the alias men\", \"alan smithee\")\n",
    "transposable_timer(are_transposable_2, \"the alias men\", \"alan smithee\")"
   ],
   "metadata": {
    "collapsed": false,
    "ExecuteTime": {
     "end_time": "2024-02-26T14:47:16.466362900Z",
     "start_time": "2024-02-26T14:47:16.456355Z"
    }
   },
   "id": "f27b9e187793dbbe",
   "execution_count": 96
  },
  {
   "cell_type": "code",
   "outputs": [],
   "source": [],
   "metadata": {
    "collapsed": false,
    "ExecuteTime": {
     "end_time": "2024-02-26T14:47:16.483280300Z",
     "start_time": "2024-02-26T14:47:16.471875400Z"
    }
   },
   "id": "2b168bd1d1d3a7c3",
   "execution_count": 96
  }
 ],
 "metadata": {
  "kernelspec": {
   "display_name": "Python 3",
   "language": "python",
   "name": "python3"
  },
  "language_info": {
   "codemirror_mode": {
    "name": "ipython",
    "version": 2
   },
   "file_extension": ".py",
   "mimetype": "text/x-python",
   "name": "python",
   "nbconvert_exporter": "python",
   "pygments_lexer": "ipython2",
   "version": "2.7.6"
  }
 },
 "nbformat": 4,
 "nbformat_minor": 5
}
