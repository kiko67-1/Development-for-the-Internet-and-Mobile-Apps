{
 "cells": [
  {
   "cell_type": "markdown",
   "source": [
    "## Semana 3\n",
    "\n",
    "### 3.3 \n",
    "Considere o algoritmo de ordenação “Selection Sort”. A ideia por detrás do funcionamento deste algoritmo é a seguinte: em cada passo, o algoritmo procura o valor mínimo numa parte não ordenada da lista (ou array) e coloca esse valor no final da parte da lista que já estiver ordenada. Inicialmente assume-se que todo a lista está desordenada e os passos são repetidos sucessivamente (tantas vezes quanto o número de elementos da lista menos 1). Após cada passo, a parte ordenada da lista cresce e a parte desordenada decresce.\n",
    "           "
   ],
   "metadata": {
    "collapsed": false
   },
   "id": "165f2b73eca9572f"
  },
  {
   "cell_type": "markdown",
   "source": [
    "### 3.3 a) \n",
    "Programe o algoritmo “Selection Sort” e teste-o utilizando uma lista com pelo menos 10 valores diferentes.\n"
   ],
   "metadata": {
    "collapsed": false
   },
   "id": "9692ed51b25f7959"
  },
  {
   "cell_type": "code",
   "outputs": [
    {
     "name": "stdout",
     "output_type": "stream",
     "text": [
      "[0, 1, 2, 3, 4, 5, 6, 7, 8, 9]\n"
     ]
    }
   ],
   "source": [
    "def selection_sort(values):\n",
    "    for i in range(len(values)):\n",
    "        min_index = i\n",
    "        for j in range(i+1, len(values)):\n",
    "            if values[j] < values[min_index]:\n",
    "                min_index = j\n",
    "        temp = values[min_index]\n",
    "        values[min_index] = values[i]\n",
    "        values[i] = temp\n",
    "\n",
    "seq = [6,8,4,5,1,7,0,3,9,2]\n",
    "selection_sort(seq)\n",
    "print(seq)"
   ],
   "metadata": {
    "collapsed": false,
    "ExecuteTime": {
     "end_time": "2024-02-26T14:12:46.398851100Z",
     "start_time": "2024-02-26T14:12:46.385843800Z"
    }
   },
   "id": "ff94ef3aaa8f4df8",
   "execution_count": 9
  },
  {
   "cell_type": "markdown",
   "source": [
    "### 3.3 b) \n",
    "O número de instruções no seu programa pode ser minimizado recorrendo às propriedades do Python. De facto, a maior parte das linguagens de programação exigem o processamento de três passos para uma troca de valores entre dois elementos da lista.\n",
    "\n",
    "Em Python essa troca pode ser feita com uma única instrução. Por exemplo, a troca entre a e b pode ser feita com uma única instrução a,b = b,a. Aplique esta particularidade do Python à sua implementação do algoritmo “Selection Sort"
   ],
   "metadata": {
    "collapsed": false
   },
   "id": "5f05b4e3cf783139"
  },
  {
   "cell_type": "code",
   "outputs": [
    {
     "name": "stdout",
     "output_type": "stream",
     "text": [
      "[0, 1, 2, 3, 4, 5, 6, 7, 8, 9]\n"
     ]
    }
   ],
   "source": [
    "def selection_sort(values):\n",
    "    for i in range(len(values)):\n",
    "        min_index = i\n",
    "        for j in range(i+1, len(values)):\n",
    "            if values[j] < values[min_index]:\n",
    "                min_index = j\n",
    "        values[i],values[min_index] = values[min_index],values[i]\n",
    "\n",
    "seq = [6,8,4,5,1,7,0,3,9,2]\n",
    "selection_sort(seq)\n",
    "print(seq)"
   ],
   "metadata": {
    "collapsed": false,
    "ExecuteTime": {
     "end_time": "2024-02-26T14:12:46.423729900Z",
     "start_time": "2024-02-26T14:12:46.407722100Z"
    }
   },
   "id": "d135868f8b856b90",
   "execution_count": 10
  }
 ],
 "metadata": {
  "kernelspec": {
   "display_name": "Python 3",
   "language": "python",
   "name": "python3"
  },
  "language_info": {
   "codemirror_mode": {
    "name": "ipython",
    "version": 2
   },
   "file_extension": ".py",
   "mimetype": "text/x-python",
   "name": "python",
   "nbconvert_exporter": "python",
   "pygments_lexer": "ipython2",
   "version": "2.7.6"
  }
 },
 "nbformat": 4,
 "nbformat_minor": 5
}
